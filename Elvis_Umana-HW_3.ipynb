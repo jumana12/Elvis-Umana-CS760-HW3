{
 "cells": [
  {
   "cell_type": "code",
   "execution_count": 28,
   "metadata": {},
   "outputs": [],
   "source": [
    "import matplotlib\n",
    "matplotlib.use(\"agg\")\n",
    "import matplotlib.pyplot as plt\n",
    "import numpy as np\n",
    "from matplotlib.ticker import FormatStrFormatter\n",
    "import pandas as pd"
   ]
  },
  {
   "attachments": {},
   "cell_type": "markdown",
   "metadata": {},
   "source": [
    "# Hw 3 Problem 5"
   ]
  },
  {
   "cell_type": "code",
   "execution_count": 27,
   "metadata": {},
   "outputs": [
    {
     "data": {
      "image/png": "[encoded data removed]",
      "text/plain": [
       "<Figure size 540x432 with 1 Axes>"
      ]
     },
     "metadata": {},
     "output_type": "display_data"
    }
   ],
   "source": [
    "fig,ax=plt.subplots(1,figsize=(7.5,6), facecolor='white')\n",
    "ax.grid(color='gray',axis='both',alpha=0.2)\n",
    "ax.tick_params(left=True, bottom=True, labelleft = True, labelbottom=True, labelsize=14)\n",
    "\n",
    "ax.yaxis.set_major_formatter(FormatStrFormatter(\"%.2f\"))\n",
    "ax.xaxis.set_major_formatter(FormatStrFormatter(\"%.2f\"))\n",
    "\n",
    "ax.set_xlabel('False Positive Rate', fontsize=18)\n",
    "ax.set_ylabel('True Positive Rate', fontsize=18)\n",
    "\n",
    "plt.plot([0.00, 0.00, 0.00, 0.25, 0.25, 0.25, 0.5, 0.5, 0.5, 0.75, 1],[0.00, 1/6, 2/6, 2/6, 0.5, 4/6, 4/6, 5/6, 1.00, 1.00, 1.0], marker = 'o', color = \"blue\")\n",
    "\n",
    "plt.savefig(\"/Users/elvis/Documents/Graduate/Courses/CS760/HW3/Problem 5a.png\", dpi=300, bbox_inches='tight')\n"
   ]
  },
  {
   "attachments": {},
   "cell_type": "markdown",
   "metadata": {},
   "source": [
    "# Hw 3 Part 2"
   ]
  },
  {
   "cell_type": "code",
   "execution_count": 33,
   "metadata": {},
   "outputs": [],
   "source": [
    "from sklearn.neighbors import KNeighborsClassifier"
   ]
  },
  {
   "cell_type": "code",
   "execution_count": 31,
   "metadata": {},
   "outputs": [],
   "source": [
    "D2z = pd.read_csv(\"/Users/elvis/Downloads/hw3-1/data/D2z.txt\", sep = \" \", header= None)"
   ]
  },
  {
   "cell_type": "code",
   "execution_count": 32,
   "metadata": {},
   "outputs": [
    {
     "data": {
      "text/html": [
       "<div>\n",
       "<style scoped>\n",
       "    .dataframe tbody tr th:only-of-type {\n",
       "        vertical-align: middle;\n",
       "    }\n",
       "\n",
       "    .dataframe tbody tr th {\n",
       "        vertical-align: top;\n",
       "    }\n",
       "\n",
       "    .dataframe thead th {\n",
       "        text-align: right;\n",
       "    }\n",
       "</style>\n",
       "<table border=\"1\" class=\"dataframe\">\n",
       "  <thead>\n",
       "    <tr style=\"text-align: right;\">\n",
       "      <th></th>\n",
       "      <th>0</th>\n",
       "      <th>1</th>\n",
       "      <th>2</th>\n",
       "    </tr>\n",
       "  </thead>\n",
       "  <tbody>\n",
       "    <tr>\n",
       "      <th>0</th>\n",
       "      <td>-0.333338</td>\n",
       "      <td>-0.087171</td>\n",
       "      <td>0</td>\n",
       "    </tr>\n",
       "    <tr>\n",
       "      <th>1</th>\n",
       "      <td>-1.531730</td>\n",
       "      <td>0.358194</td>\n",
       "      <td>1</td>\n",
       "    </tr>\n",
       "    <tr>\n",
       "      <th>2</th>\n",
       "      <td>1.549590</td>\n",
       "      <td>-0.364050</td>\n",
       "      <td>0</td>\n",
       "    </tr>\n",
       "    <tr>\n",
       "      <th>3</th>\n",
       "      <td>-1.349910</td>\n",
       "      <td>0.252063</td>\n",
       "      <td>1</td>\n",
       "    </tr>\n",
       "    <tr>\n",
       "      <th>4</th>\n",
       "      <td>1.283850</td>\n",
       "      <td>-0.531146</td>\n",
       "      <td>0</td>\n",
       "    </tr>\n",
       "    <tr>\n",
       "      <th>...</th>\n",
       "      <td>...</td>\n",
       "      <td>...</td>\n",
       "      <td>...</td>\n",
       "    </tr>\n",
       "    <tr>\n",
       "      <th>195</th>\n",
       "      <td>-0.697750</td>\n",
       "      <td>1.098280</td>\n",
       "      <td>1</td>\n",
       "    </tr>\n",
       "    <tr>\n",
       "      <th>196</th>\n",
       "      <td>1.161160</td>\n",
       "      <td>-0.733751</td>\n",
       "      <td>0</td>\n",
       "    </tr>\n",
       "    <tr>\n",
       "      <th>197</th>\n",
       "      <td>-1.288480</td>\n",
       "      <td>0.443773</td>\n",
       "      <td>1</td>\n",
       "    </tr>\n",
       "    <tr>\n",
       "      <th>198</th>\n",
       "      <td>-1.384200</td>\n",
       "      <td>0.526523</td>\n",
       "      <td>1</td>\n",
       "    </tr>\n",
       "    <tr>\n",
       "      <th>199</th>\n",
       "      <td>-0.076601</td>\n",
       "      <td>-0.707686</td>\n",
       "      <td>0</td>\n",
       "    </tr>\n",
       "  </tbody>\n",
       "</table>\n",
       "<p>200 rows × 3 columns</p>\n",
       "</div>"
      ],
      "text/plain": [
       "            0         1  2\n",
       "0   -0.333338 -0.087171  0\n",
       "1   -1.531730  0.358194  1\n",
       "2    1.549590 -0.364050  0\n",
       "3   -1.349910  0.252063  1\n",
       "4    1.283850 -0.531146  0\n",
       "..        ...       ... ..\n",
       "195 -0.697750  1.098280  1\n",
       "196  1.161160 -0.733751  0\n",
       "197 -1.288480  0.443773  1\n",
       "198 -1.384200  0.526523  1\n",
       "199 -0.076601 -0.707686  0\n",
       "\n",
       "[200 rows x 3 columns]"
      ]
     },
     "execution_count": 32,
     "metadata": {},
     "output_type": "execute_result"
    }
   ],
   "source": [
    "D2z"
   ]
  },
  {
   "cell_type": "code",
   "execution_count": 42,
   "metadata": {},
   "outputs": [],
   "source": [
    "Test_Points = pd.DataFrame([[i, j] for i in np.arange(-2,2.1,0.1) for j in np.arange(-2,2.1,0.1)])"
   ]
  },
  {
   "cell_type": "code",
   "execution_count": 50,
   "metadata": {},
   "outputs": [
    {
     "name": "stderr",
     "output_type": "stream",
     "text": [
      "/opt/anaconda3/envs/rdkit-env/lib/python3.9/site-packages/sklearn/neighbors/_classification.py:198: DataConversionWarning: A column-vector y was passed when a 1d array was expected. Please change the shape of y to (n_samples,), for example using ravel().\n",
      "  return self._fit(X, y)\n"
     ]
    },
    {
     "data": {
      "text/plain": [
       "KNeighborsClassifier(n_neighbors=1)"
      ]
     },
     "execution_count": 50,
     "metadata": {},
     "output_type": "execute_result"
    }
   ],
   "source": [
    "oneNN = KNeighborsClassifier(n_neighbors=1, metric='minkowski')\n",
    "oneNN.fit(D2z[[0,1]], D2z[[2]])"
   ]
  },
  {
   "cell_type": "code",
   "execution_count": 58,
   "metadata": {},
   "outputs": [],
   "source": [
    "Test_Points_labels = oneNN.predict(Test_Points[[0,1]])"
   ]
  },
  {
   "cell_type": "code",
   "execution_count": 63,
   "metadata": {},
   "outputs": [],
   "source": [
    "Test_Points[2] = Test_Points_labels"
   ]
  },
  {
   "cell_type": "code",
   "execution_count": 78,
   "metadata": {},
   "outputs": [
    {
     "data": {
      "image/png": "[encoded data removed]",
      "text/plain": [
       "<Figure size 540x432 with 1 Axes>"
      ]
     },
     "metadata": {},
     "output_type": "display_data"
    }
   ],
   "source": [
    "fig,ax=plt.subplots(1,figsize=(7.5,6), facecolor='white')\n",
    "ax.grid(color='gray',axis='both',alpha=0.2)\n",
    "ax.tick_params(left=True, bottom=True, labelleft = True, labelbottom=True, labelsize=14)\n",
    "\n",
    "ax.yaxis.set_major_formatter(FormatStrFormatter(\"%.1f\"))\n",
    "ax.xaxis.set_major_formatter(FormatStrFormatter(\"%.1f\"))\n",
    "\n",
    "#ax.set_xlabel('False Positive Rate', fontsize=18)\n",
    "#ax.set_ylabel('True Positive Rate', fontsize=18)\n",
    "\n",
    "plt.scatter(Test_Points.loc[Test_Points[2] == 0][0], Test_Points.loc[Test_Points[2] == 0][1], marker = '.', c = 'cornflowerblue')\n",
    "plt.scatter(Test_Points.loc[Test_Points[2] == 1][0], Test_Points.loc[Test_Points[2] == 1][1], marker = '.', c = 'salmon')\n",
    "plt.scatter(D2z.loc[D2z[2] == 0][0], D2z.loc[D2z[2] == 0][1], marker= 'o', facecolor='none', edgecolors='black')\n",
    "plt.scatter(D2z.loc[D2z[2] == 1][0], D2z.loc[D2z[2] == 1][1], marker= '+', color ='black', linewidths=1)\n",
    "\n",
    "plt.savefig(\"/Users/elvis/Documents/Graduate/Courses/CS760/HW3/Problem 2-1.png\", dpi=300, bbox_inches='tight')"
   ]
  },
  {
   "attachments": {},
   "cell_type": "markdown",
   "metadata": {},
   "source": [
    "# Part 2 - Programming"
   ]
  },
  {
   "cell_type": "code",
   "execution_count": 222,
   "metadata": {},
   "outputs": [],
   "source": [
    "from sklearn.metrics import classification_report\n",
    "from sklearn.metrics import accuracy_score\n",
    "from sklearn.metrics import precision_score\n",
    "from sklearn.metrics import recall_score"
   ]
  },
  {
   "cell_type": "code",
   "execution_count": 79,
   "metadata": {},
   "outputs": [],
   "source": [
    "email_data = pd.read_csv(\"/Users/elvis/Downloads/hw3-1/data/emails.csv\")"
   ]
  },
  {
   "cell_type": "code",
   "execution_count": 83,
   "metadata": {},
   "outputs": [],
   "source": [
    "single_train = email_data[:4000]\n",
    "single_test = email_data[4000:]\n",
    "\n",
    "Fold_1 = email_data[:1000]\n",
    "Fold_2 = email_data[1000:2000]\n",
    "Fold_3 = email_data[2000:3000]\n",
    "Fold_4 = email_data[3000:4000]\n",
    "Fold_5 = email_data[4000:5000]"
   ]
  },
  {
   "attachments": {},
   "cell_type": "markdown",
   "metadata": {},
   "source": [
    "### 1NN"
   ]
  },
  {
   "cell_type": "code",
   "execution_count": 225,
   "metadata": {},
   "outputs": [
    {
     "name": "stderr",
     "output_type": "stream",
     "text": [
      "/opt/anaconda3/envs/rdkit-env/lib/python3.9/site-packages/sklearn/neighbors/_classification.py:198: DataConversionWarning: A column-vector y was passed when a 1d array was expected. Please change the shape of y to (n_samples,), for example using ravel().\n",
      "  return self._fit(X, y)\n",
      "/opt/anaconda3/envs/rdkit-env/lib/python3.9/site-packages/sklearn/neighbors/_classification.py:198: DataConversionWarning: A column-vector y was passed when a 1d array was expected. Please change the shape of y to (n_samples,), for example using ravel().\n",
      "  return self._fit(X, y)\n",
      "/opt/anaconda3/envs/rdkit-env/lib/python3.9/site-packages/sklearn/neighbors/_classification.py:198: DataConversionWarning: A column-vector y was passed when a 1d array was expected. Please change the shape of y to (n_samples,), for example using ravel().\n",
      "  return self._fit(X, y)\n",
      "/opt/anaconda3/envs/rdkit-env/lib/python3.9/site-packages/sklearn/neighbors/_classification.py:198: DataConversionWarning: A column-vector y was passed when a 1d array was expected. Please change the shape of y to (n_samples,), for example using ravel().\n",
      "  return self._fit(X, y)\n",
      "/opt/anaconda3/envs/rdkit-env/lib/python3.9/site-packages/sklearn/neighbors/_classification.py:198: DataConversionWarning: A column-vector y was passed when a 1d array was expected. Please change the shape of y to (n_samples,), for example using ravel().\n",
      "  return self._fit(X, y)\n"
     ]
    }
   ],
   "source": [
    "accuracies_fold = [0,0,0,0,0]\n",
    "precisions_fold = [0,0,0,0,0]\n",
    "recalls_fold = [0,0,0,0,0]\n",
    "for i in range(0,5):\n",
    "    email_oneNN = KNeighborsClassifier(n_neighbors=1, metric='minkowski')\n",
    "    Fold_data = [Fold_1.drop(columns= \"Email No.\"), Fold_2.drop(columns= \"Email No.\"), \n",
    "                 Fold_3.drop(columns= \"Email No.\"), Fold_4.drop(columns= \"Email No.\"), Fold_5.drop(columns= \"Email No.\")]\n",
    "    test_emails = pd.DataFrame(Fold_data[i])\n",
    "    Fold_data.pop(i)\n",
    "    train_emails = pd.DataFrame()\n",
    "    for j in Fold_data:\n",
    "        train_emails = pd.concat((train_emails,j))\n",
    "    email_oneNN.fit(train_emails.drop(columns='Prediction'), train_emails[['Prediction']])\n",
    "    test_emails_predictions = email_oneNN.predict(test_emails.drop(columns='Prediction'))\n",
    "    accuracies_fold[i] = np.round(accuracy_score(test_emails['Prediction'], test_emails_predictions), 3)\n",
    "    precisions_fold[i] = np.round(precision_score(test_emails['Prediction'], test_emails_predictions), 3)\n",
    "    recalls_fold[i] = np.round(recall_score(test_emails['Prediction'], test_emails_predictions), 3)"
   ]
  },
  {
   "cell_type": "code",
   "execution_count": 226,
   "metadata": {},
   "outputs": [
    {
     "data": {
      "text/plain": [
       "([0.825, 0.853, 0.862, 0.851, 0.775],\n",
       " [0.654, 0.686, 0.721, 0.716, 0.606],\n",
       " [0.818, 0.866, 0.838, 0.816, 0.758])"
      ]
     },
     "execution_count": 226,
     "metadata": {},
     "output_type": "execute_result"
    }
   ],
   "source": [
    "accuracies_fold, precisions_fold, recalls_fold"
   ]
  },
  {
   "attachments": {},
   "cell_type": "markdown",
   "metadata": {},
   "source": [
    "### 5NN"
   ]
  },
  {
   "cell_type": "code",
   "execution_count": 220,
   "metadata": {},
   "outputs": [
    {
     "name": "stderr",
     "output_type": "stream",
     "text": [
      "/opt/anaconda3/envs/rdkit-env/lib/python3.9/site-packages/sklearn/neighbors/_classification.py:198: DataConversionWarning: A column-vector y was passed when a 1d array was expected. Please change the shape of y to (n_samples,), for example using ravel().\n",
      "  return self._fit(X, y)\n",
      "/opt/anaconda3/envs/rdkit-env/lib/python3.9/site-packages/sklearn/neighbors/_classification.py:198: DataConversionWarning: A column-vector y was passed when a 1d array was expected. Please change the shape of y to (n_samples,), for example using ravel().\n",
      "  return self._fit(X, y)\n",
      "/opt/anaconda3/envs/rdkit-env/lib/python3.9/site-packages/sklearn/neighbors/_classification.py:198: DataConversionWarning: A column-vector y was passed when a 1d array was expected. Please change the shape of y to (n_samples,), for example using ravel().\n",
      "  return self._fit(X, y)\n",
      "/opt/anaconda3/envs/rdkit-env/lib/python3.9/site-packages/sklearn/neighbors/_classification.py:198: DataConversionWarning: A column-vector y was passed when a 1d array was expected. Please change the shape of y to (n_samples,), for example using ravel().\n",
      "  return self._fit(X, y)\n",
      "/opt/anaconda3/envs/rdkit-env/lib/python3.9/site-packages/sklearn/neighbors/_classification.py:198: DataConversionWarning: A column-vector y was passed when a 1d array was expected. Please change the shape of y to (n_samples,), for example using ravel().\n",
      "  return self._fit(X, y)\n",
      "/opt/anaconda3/envs/rdkit-env/lib/python3.9/site-packages/sklearn/neighbors/_classification.py:198: DataConversionWarning: A column-vector y was passed when a 1d array was expected. Please change the shape of y to (n_samples,), for example using ravel().\n",
      "  return self._fit(X, y)\n",
      "/opt/anaconda3/envs/rdkit-env/lib/python3.9/site-packages/sklearn/neighbors/_classification.py:198: DataConversionWarning: A column-vector y was passed when a 1d array was expected. Please change the shape of y to (n_samples,), for example using ravel().\n",
      "  return self._fit(X, y)\n",
      "/opt/anaconda3/envs/rdkit-env/lib/python3.9/site-packages/sklearn/neighbors/_classification.py:198: DataConversionWarning: A column-vector y was passed when a 1d array was expected. Please change the shape of y to (n_samples,), for example using ravel().\n",
      "  return self._fit(X, y)\n",
      "/opt/anaconda3/envs/rdkit-env/lib/python3.9/site-packages/sklearn/neighbors/_classification.py:198: DataConversionWarning: A column-vector y was passed when a 1d array was expected. Please change the shape of y to (n_samples,), for example using ravel().\n",
      "  return self._fit(X, y)\n",
      "/opt/anaconda3/envs/rdkit-env/lib/python3.9/site-packages/sklearn/neighbors/_classification.py:198: DataConversionWarning: A column-vector y was passed when a 1d array was expected. Please change the shape of y to (n_samples,), for example using ravel().\n",
      "  return self._fit(X, y)\n",
      "/opt/anaconda3/envs/rdkit-env/lib/python3.9/site-packages/sklearn/neighbors/_classification.py:198: DataConversionWarning: A column-vector y was passed when a 1d array was expected. Please change the shape of y to (n_samples,), for example using ravel().\n",
      "  return self._fit(X, y)\n",
      "/opt/anaconda3/envs/rdkit-env/lib/python3.9/site-packages/sklearn/neighbors/_classification.py:198: DataConversionWarning: A column-vector y was passed when a 1d array was expected. Please change the shape of y to (n_samples,), for example using ravel().\n",
      "  return self._fit(X, y)\n",
      "/opt/anaconda3/envs/rdkit-env/lib/python3.9/site-packages/sklearn/neighbors/_classification.py:198: DataConversionWarning: A column-vector y was passed when a 1d array was expected. Please change the shape of y to (n_samples,), for example using ravel().\n",
      "  return self._fit(X, y)\n",
      "/opt/anaconda3/envs/rdkit-env/lib/python3.9/site-packages/sklearn/neighbors/_classification.py:198: DataConversionWarning: A column-vector y was passed when a 1d array was expected. Please change the shape of y to (n_samples,), for example using ravel().\n",
      "  return self._fit(X, y)\n",
      "/opt/anaconda3/envs/rdkit-env/lib/python3.9/site-packages/sklearn/neighbors/_classification.py:198: DataConversionWarning: A column-vector y was passed when a 1d array was expected. Please change the shape of y to (n_samples,), for example using ravel().\n",
      "  return self._fit(X, y)\n",
      "/opt/anaconda3/envs/rdkit-env/lib/python3.9/site-packages/sklearn/neighbors/_classification.py:198: DataConversionWarning: A column-vector y was passed when a 1d array was expected. Please change the shape of y to (n_samples,), for example using ravel().\n",
      "  return self._fit(X, y)\n",
      "/opt/anaconda3/envs/rdkit-env/lib/python3.9/site-packages/sklearn/neighbors/_classification.py:198: DataConversionWarning: A column-vector y was passed when a 1d array was expected. Please change the shape of y to (n_samples,), for example using ravel().\n",
      "  return self._fit(X, y)\n",
      "/opt/anaconda3/envs/rdkit-env/lib/python3.9/site-packages/sklearn/neighbors/_classification.py:198: DataConversionWarning: A column-vector y was passed when a 1d array was expected. Please change the shape of y to (n_samples,), for example using ravel().\n",
      "  return self._fit(X, y)\n",
      "/opt/anaconda3/envs/rdkit-env/lib/python3.9/site-packages/sklearn/neighbors/_classification.py:198: DataConversionWarning: A column-vector y was passed when a 1d array was expected. Please change the shape of y to (n_samples,), for example using ravel().\n",
      "  return self._fit(X, y)\n",
      "/opt/anaconda3/envs/rdkit-env/lib/python3.9/site-packages/sklearn/neighbors/_classification.py:198: DataConversionWarning: A column-vector y was passed when a 1d array was expected. Please change the shape of y to (n_samples,), for example using ravel().\n",
      "  return self._fit(X, y)\n",
      "/opt/anaconda3/envs/rdkit-env/lib/python3.9/site-packages/sklearn/neighbors/_classification.py:198: DataConversionWarning: A column-vector y was passed when a 1d array was expected. Please change the shape of y to (n_samples,), for example using ravel().\n",
      "  return self._fit(X, y)\n",
      "/opt/anaconda3/envs/rdkit-env/lib/python3.9/site-packages/sklearn/neighbors/_classification.py:198: DataConversionWarning: A column-vector y was passed when a 1d array was expected. Please change the shape of y to (n_samples,), for example using ravel().\n",
      "  return self._fit(X, y)\n",
      "/opt/anaconda3/envs/rdkit-env/lib/python3.9/site-packages/sklearn/neighbors/_classification.py:198: DataConversionWarning: A column-vector y was passed when a 1d array was expected. Please change the shape of y to (n_samples,), for example using ravel().\n",
      "  return self._fit(X, y)\n",
      "/opt/anaconda3/envs/rdkit-env/lib/python3.9/site-packages/sklearn/neighbors/_classification.py:198: DataConversionWarning: A column-vector y was passed when a 1d array was expected. Please change the shape of y to (n_samples,), for example using ravel().\n",
      "  return self._fit(X, y)\n",
      "/opt/anaconda3/envs/rdkit-env/lib/python3.9/site-packages/sklearn/neighbors/_classification.py:198: DataConversionWarning: A column-vector y was passed when a 1d array was expected. Please change the shape of y to (n_samples,), for example using ravel().\n",
      "  return self._fit(X, y)\n"
     ]
    }
   ],
   "source": [
    "accuracies_k = [0,0,0,0,0]\n",
    "count = 0\n",
    "for k in [1,3,5,7,10]:\n",
    "    overall_test = []\n",
    "    overall_pred = []\n",
    "    for i in range(0,5):\n",
    "        email_oneNN = KNeighborsClassifier(n_neighbors=k, metric='minkowski')\n",
    "        Fold_data = [Fold_1.drop(columns= \"Email No.\"), Fold_2.drop(columns= \"Email No.\"), \n",
    "                     Fold_3.drop(columns= \"Email No.\"), Fold_4.drop(columns= \"Email No.\"), Fold_5.drop(columns= \"Email No.\")]\n",
    "        test_emails = pd.DataFrame(Fold_data[i])\n",
    "        Fold_data.pop(i)\n",
    "        train_emails = pd.DataFrame()\n",
    "        for j in Fold_data:\n",
    "            train_emails = pd.concat((train_emails,j))\n",
    "        email_oneNN.fit(train_emails.drop(columns='Prediction'), train_emails[['Prediction']])\n",
    "        test_emails_predictions = email_oneNN.predict(test_emails.drop(columns='Prediction'))\n",
    "        overall_test = np.concatenate((overall_test, test_emails['Prediction'].to_numpy()))\n",
    "        overall_pred = np.concatenate((overall_pred, test_emails_predictions))\n",
    "    accuracies_k[count] = accuracy_score(overall_test, overall_pred)\n",
    "    count = count + 1"
   ]
  },
  {
   "cell_type": "code",
   "execution_count": 221,
   "metadata": {},
   "outputs": [
    {
     "data": {
      "text/plain": [
       "[0.8332, 0.8422, 0.8408, 0.8462, 0.8556]"
      ]
     },
     "execution_count": 221,
     "metadata": {},
     "output_type": "execute_result"
    }
   ],
   "source": [
    "accuracies_k"
   ]
  },
  {
   "cell_type": "code",
   "execution_count": 230,
   "metadata": {},
   "outputs": [
    {
     "name": "stderr",
     "output_type": "stream",
     "text": [
      "/var/folders/n0/8fxhskld1wsc76dqzmh0f_9w0000gn/T/ipykernel_55078/3257121821.py:10: MatplotlibDeprecationWarning: Case-insensitive properties were deprecated in 3.3 and support will be removed two minor releases later\n",
      "  ax.set_title('kNN 5-Fold Cross Valdidation', Fontsize = 24)\n"
     ]
    },
    {
     "data": {
      "image/png": "[encoded data removed]",
      "text/plain": [
       "<Figure size 540x432 with 1 Axes>"
      ]
     },
     "metadata": {},
     "output_type": "display_data"
    }
   ],
   "source": [
    "fig,ax=plt.subplots(1,figsize=(7.5,6), facecolor='white')\n",
    "ax.grid(color='gray',axis='both',alpha=0.2)\n",
    "ax.tick_params(left=True, bottom=True, labelleft = True, labelbottom=True, labelsize=14)\n",
    "\n",
    "ax.yaxis.set_major_formatter(FormatStrFormatter(\"%.2f\"))\n",
    "ax.xaxis.set_major_formatter(FormatStrFormatter(\"%.2f\"))\n",
    "\n",
    "ax.set_xlabel('k', fontsize=18)\n",
    "ax.set_ylabel('Average Accuracy', fontsize=18)\n",
    "ax.set_title('kNN 5-Fold Cross Valdidation', Fontsize = 24)\n",
    "\n",
    "plt.plot([1,3,5,7,10],accuracies_k, marker = 'o', color = \"blue\")\n",
    "\n",
    "plt.savefig(\"/Users/elvis/Documents/Graduate/Courses/CS760/HW3/Problem 2-4.png\", dpi=300, bbox_inches='tight')"
   ]
  },
  {
   "attachments": {},
   "cell_type": "markdown",
   "metadata": {},
   "source": [
    "### Logistic Regression"
   ]
  },
  {
   "cell_type": "code",
   "execution_count": 369,
   "metadata": {},
   "outputs": [],
   "source": [
    "def sigmoid(x):\n",
    "    ans = 1/(1+np.exp(-x))\n",
    "    return(ans)"
   ]
  },
  {
   "cell_type": "code",
   "execution_count": 379,
   "metadata": {},
   "outputs": [],
   "source": [
    "learning_rate = 0.01"
   ]
  },
  {
   "cell_type": "code",
   "execution_count": 380,
   "metadata": {},
   "outputs": [
    {
     "name": "stderr",
     "output_type": "stream",
     "text": [
      "/var/folders/n0/8fxhskld1wsc76dqzmh0f_9w0000gn/T/ipykernel_55078/1304349285.py:2: RuntimeWarning: overflow encountered in exp\n",
      "  ans = 1/(1+np.exp(-x))\n"
     ]
    },
    {
     "name": "stdout",
     "output_type": "stream",
     "text": [
      "0\n"
     ]
    },
    {
     "name": "stderr",
     "output_type": "stream",
     "text": [
      "/var/folders/n0/8fxhskld1wsc76dqzmh0f_9w0000gn/T/ipykernel_55078/1304349285.py:2: RuntimeWarning: overflow encountered in exp\n",
      "  ans = 1/(1+np.exp(-x))\n"
     ]
    },
    {
     "name": "stdout",
     "output_type": "stream",
     "text": [
      "1\n"
     ]
    },
    {
     "name": "stderr",
     "output_type": "stream",
     "text": [
      "/var/folders/n0/8fxhskld1wsc76dqzmh0f_9w0000gn/T/ipykernel_55078/1304349285.py:2: RuntimeWarning: overflow encountered in exp\n",
      "  ans = 1/(1+np.exp(-x))\n"
     ]
    },
    {
     "name": "stdout",
     "output_type": "stream",
     "text": [
      "2\n"
     ]
    },
    {
     "name": "stderr",
     "output_type": "stream",
     "text": [
      "/var/folders/n0/8fxhskld1wsc76dqzmh0f_9w0000gn/T/ipykernel_55078/1304349285.py:2: RuntimeWarning: overflow encountered in exp\n",
      "  ans = 1/(1+np.exp(-x))\n"
     ]
    },
    {
     "name": "stdout",
     "output_type": "stream",
     "text": [
      "3\n"
     ]
    },
    {
     "name": "stderr",
     "output_type": "stream",
     "text": [
      "/var/folders/n0/8fxhskld1wsc76dqzmh0f_9w0000gn/T/ipykernel_55078/1304349285.py:2: RuntimeWarning: overflow encountered in exp\n",
      "  ans = 1/(1+np.exp(-x))\n"
     ]
    },
    {
     "name": "stdout",
     "output_type": "stream",
     "text": [
      "4\n"
     ]
    }
   ],
   "source": [
    "accuracies_fold = [0,0,0,0,0]\n",
    "precisions_fold = [0,0,0,0,0]\n",
    "recalls_fold = [0,0,0,0,0]\n",
    "for i in range(0,5):\n",
    "    theta = np.zeros(3000).reshape(3000,1)\n",
    "\n",
    "    Fold_data = [Fold_1.drop(columns= \"Email No.\"), Fold_2.drop(columns= \"Email No.\"), \n",
    "                 Fold_3.drop(columns= \"Email No.\"), Fold_4.drop(columns= \"Email No.\"), Fold_5.drop(columns= \"Email No.\")]\n",
    "    test_emails = pd.DataFrame(Fold_data[i])\n",
    "    Fold_data.pop(i)\n",
    "    train_emails = pd.DataFrame()\n",
    "    for j in Fold_data:\n",
    "        train_emails = pd.concat((train_emails,j))\n",
    "\n",
    "    for l in range(0,1000):\n",
    "        theta = (theta.reshape(3000,1) - learning_rate*((sigmoid(theta.T@train_emails.drop(columns='Prediction').to_numpy().T).reshape(4000,1) - train_emails[['Prediction']].to_numpy()).T@train_emails.drop(columns='Prediction').to_numpy()).T)\n",
    "\n",
    "    \n",
    "    test_emails_predictions = sigmoid(theta.T@test_emails.drop(columns='Prediction').to_numpy().T)\n",
    "\n",
    "    test_emails_predictions = np.round(test_emails_predictions, 0)\n",
    "\n",
    "    accuracies_fold[i] = np.round(accuracy_score(test_emails['Prediction'], test_emails_predictions.reshape(1000,1)), 3)\n",
    "    precisions_fold[i] = np.round(precision_score(test_emails['Prediction'], test_emails_predictions.reshape(1000,1)), 3)\n",
    "    recalls_fold[i] = np.round(recall_score(test_emails['Prediction'], test_emails_predictions.reshape(1000,1)), 3)\n",
    "\n",
    "    print(i)"
   ]
  },
  {
   "cell_type": "code",
   "execution_count": 381,
   "metadata": {},
   "outputs": [
    {
     "data": {
      "text/plain": [
       "([0.91, 0.897, 0.883, 0.877, 0.85],\n",
       " [0.885, 0.792, 0.896, 0.838, 0.781],\n",
       " [0.786, 0.852, 0.665, 0.721, 0.709])"
      ]
     },
     "execution_count": 381,
     "metadata": {},
     "output_type": "execute_result"
    }
   ],
   "source": [
    "accuracies_fold, precisions_fold, recalls_fol"
   ]
  },
  {
   "attachments": {},
   "cell_type": "markdown",
   "metadata": {},
   "source": [
    "### ROC Curve"
   ]
  },
  {
   "cell_type": "code",
   "execution_count": 386,
   "metadata": {},
   "outputs": [],
   "source": [
    "from sklearn import metrics\n",
    "\n",
    "from sklearn.linear_model import LogisticRegression"
   ]
  },
  {
   "cell_type": "code",
   "execution_count": 438,
   "metadata": {},
   "outputs": [
    {
     "name": "stderr",
     "output_type": "stream",
     "text": [
      "/opt/anaconda3/envs/rdkit-env/lib/python3.9/site-packages/sklearn/neighbors/_classification.py:198: DataConversionWarning: A column-vector y was passed when a 1d array was expected. Please change the shape of y to (n_samples,), for example using ravel().\n",
      "  return self._fit(X, y)\n",
      "/opt/anaconda3/envs/rdkit-env/lib/python3.9/site-packages/sklearn/utils/validation.py:993: DataConversionWarning: A column-vector y was passed when a 1d array was expected. Please change the shape of y to (n_samples, ), for example using ravel().\n",
      "  y = column_or_1d(y, warn=True)\n",
      "/opt/anaconda3/envs/rdkit-env/lib/python3.9/site-packages/sklearn/linear_model/_logistic.py:814: ConvergenceWarning: lbfgs failed to converge (status=1):\n",
      "STOP: TOTAL NO. of ITERATIONS REACHED LIMIT.\n",
      "\n",
      "Increase the number of iterations (max_iter) or scale the data as shown in:\n",
      "    https://scikit-learn.org/stable/modules/preprocessing.html\n",
      "Please also refer to the documentation for alternative solver options:\n",
      "    https://scikit-learn.org/stable/modules/linear_model.html#logistic-regression\n",
      "  n_iter_i = _check_optimize_result(\n"
     ]
    }
   ],
   "source": [
    "email_oneNN = KNeighborsClassifier(n_neighbors=5, metric='minkowski')\n",
    "Fold_data = [Fold_1.drop(columns= \"Email No.\"), Fold_2.drop(columns= \"Email No.\"), \n",
    "                     Fold_3.drop(columns= \"Email No.\"), Fold_4.drop(columns= \"Email No.\"), Fold_5.drop(columns= \"Email No.\")]\n",
    "test_emails = pd.DataFrame(Fold_data[2])\n",
    "Fold_data.pop(2)\n",
    "train_emails = pd.DataFrame()\n",
    "for j in Fold_data:\n",
    "    train_emails = pd.concat((train_emails,j))\n",
    "\n",
    "email_oneNN.fit(train_emails.drop(columns='Prediction'), train_emails[['Prediction']])\n",
    "fiveNN_emails_predictions = email_oneNN.predict_proba(test_emails.drop(columns='Prediction'))\n",
    "\n",
    "clf = LogisticRegression(random_state=0).fit(train_emails.drop(columns='Prediction'), train_emails[['Prediction']])\n",
    "logReg_emails_predictions = clf.predict_proba(test_emails.drop(columns='Prediction'))"
   ]
  },
  {
   "cell_type": "code",
   "execution_count": 439,
   "metadata": {},
   "outputs": [
    {
     "data": {
      "text/plain": [
       "0.9396539853647021"
      ]
     },
     "execution_count": 439,
     "metadata": {},
     "output_type": "execute_result"
    }
   ],
   "source": [
    "fiveNN_fpr, fiveNN_tpr, fiveNN_thresholds = metrics.roc_curve(test_emails['Prediction'], fiveNN_emails_predictions.T[1], pos_label=1)\n",
    "metrics.auc(fiveNN_fpr, fiveNN_tpr)"
   ]
  },
  {
   "cell_type": "code",
   "execution_count": 442,
   "metadata": {},
   "outputs": [
    {
     "data": {
      "text/plain": [
       "0.9891563065544102"
      ]
     },
     "execution_count": 442,
     "metadata": {},
     "output_type": "execute_result"
    }
   ],
   "source": [
    "logReg_fpr, logReg_tpr, logReg_thresholds = metrics.roc_curve(test_emails['Prediction'], logReg_emails_predictions.T[1], pos_label=1)\n",
    "metrics.auc(logReg_fpr, logReg_tpr)"
   ]
  },
  {
   "cell_type": "code",
   "execution_count": 447,
   "metadata": {},
   "outputs": [
    {
     "name": "stderr",
     "output_type": "stream",
     "text": [
      "/var/folders/n0/8fxhskld1wsc76dqzmh0f_9w0000gn/T/ipykernel_55078/2993297757.py:9: MatplotlibDeprecationWarning: Case-insensitive properties were deprecated in 3.3 and support will be removed two minor releases later\n",
      "  ax.set_xlabel('False Positive Rate', Fontsize = 18)\n"
     ]
    },
    {
     "data": {
      "image/png": "[encoded data removed]",
      "text/plain": [
       "<Figure size 540x432 with 1 Axes>"
      ]
     },
     "metadata": {},
     "output_type": "display_data"
    }
   ],
   "source": [
    "fig,ax=plt.subplots(1,figsize=(7.5,6), facecolor='white')\n",
    "ax.grid(color='gray',axis='both',alpha=0.2)\n",
    "ax.tick_params(left=True, bottom=True, labelleft = True, labelbottom=True, labelsize=14)\n",
    "\n",
    "ax.yaxis.set_major_formatter(FormatStrFormatter(\"%.2f\"))\n",
    "ax.xaxis.set_major_formatter(FormatStrFormatter(\"%.2f\"))\n",
    "\n",
    "ax.set_ylabel('True Positive Rate', fontsize=18)\n",
    "ax.set_xlabel('False Positive Rate', Fontsize = 18)\n",
    "\n",
    "plt.plot(fiveNN_fpr,fiveNN_tpr, color = \"blue\", label = '5 k-Neighbors Classifier (AUC = 0.94)')\n",
    "plt.plot(logReg_fpr,logReg_tpr, color = \"red\", label = 'Logistic Regression (AUC = 0.99')\n",
    "\n",
    "\n",
    "plt.legend(fontsize = 14)\n",
    "\n",
    "plt.savefig(\"/Users/elvis/Documents/Graduate/Courses/CS760/HW3/Problem 2-5.png\", dpi=300, bbox_inches='tight')"
   ]
  }
 ],
 "metadata": {
  "kernelspec": {
   "display_name": "rdkit-env",
   "language": "python",
   "name": "python3"
  },
  "language_info": {
   "codemirror_mode": {
    "name": "ipython",
    "version": 3
   },
   "file_extension": ".py",
   "mimetype": "text/x-python",
   "name": "python",
   "nbconvert_exporter": "python",
   "pygments_lexer": "ipython3",
   "version": "3.9.7"
  },
  "orig_nbformat": 4,
  "vscode": {
   "interpreter": {
    "hash": "e643d4fd3ec1db81d393551f271cf70d6b70a41f0b198b244df41a746c6c6fef"
   }
  }
 },
 "nbformat": 4,
 "nbformat_minor": 2
}
